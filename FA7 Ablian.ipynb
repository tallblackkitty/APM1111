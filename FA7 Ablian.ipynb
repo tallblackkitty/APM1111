{
 "cells": [
  {
   "cell_type": "code",
   "execution_count": 7,
   "metadata": {},
   "outputs": [
    {
     "name": "stdout",
     "output_type": "stream",
     "text": [
      "Shapiro-Wilk test: ShapiroResult(statistic=0.9543896913528442, pvalue=0.33629724383354187)\n",
      "Normality assumption met.\n"
     ]
    },
    {
     "data": {
      "image/png": "[encoded data removed]",
      "text/plain": [
       "<Figure size 432x288 with 1 Axes>"
      ]
     },
     "metadata": {
      "needs_background": "light"
     },
     "output_type": "display_data"
    },
    {
     "name": "stdout",
     "output_type": "stream",
     "text": [
      "t-statistic: -1.6456021024035095, p-value: 0.11344450167254819\n"
     ]
    }
   ],
   "source": [
    "import pandas as pd\n",
    "import scipy.stats as stats\n",
    "import matplotlib.pyplot as plt\n",
    "import seaborn as sns\n",
    "\n",
    "df = pd.DataFrame({\n",
    "    \"Participant\": [1, 2, 3, 4, 5, 6, 7, 8, 9, 10, 11, 12, \n",
    "                    13, 14, 15, 16, 17, 18, 19, 20, 21, 22, 23, 24],\n",
    "    \"Cloak\": [0, 0, 0, 0, 0, 0, 0, 0, 0, 0, 0, 0, \n",
    "              1, 1, 1, 1, 1, 1, 1, 1, 1, 1, 1, 1],\n",
    "    \"Mischief\": [3, 1, 5, 4, 6, 4, 6, 2, 0, 5, 4, 5, \n",
    "                 4, 3, 6, 6, 8, 5, 5, 4, 2, 5, 7, 5]\n",
    "})\n",
    "\n",
    "# Assumption 1: The dependent variable is continuous (Mischief is a numeric variable)\n",
    "# Assumption 2: Check for normality using Shapiro-Wilk test\n",
    "shapiro_test = stats.shapiro(df[\"Mischief\"])\n",
    "print(f\"Shapiro-Wilk test: {shapiro_test}\")\n",
    "if shapiro_test.pvalue > 0.05:\n",
    "    print(\"Normality assumption met.\")\n",
    "else:\n",
    "    print(\"Normality assumption violated.\")\n",
    "# Assumption 3: Check for outliers using a boxplot\n",
    "sns.boxplot(df[\"Mischief\"])\n",
    "plt.title(\"Boxplot of Mischief Acts\")\n",
    "plt.show()\n",
    "# Perform one-sample t-test (testing against population mean = 5)\n",
    "t_test_result = stats.ttest_1samp(df[\"Mischief\"], 5)\n",
    "print(f\"t-statistic: {t_test_result.statistic}, p-value: {t_test_result.pvalue}\")"
   ]
  },
  {
   "cell_type": "markdown",
   "metadata": {},
   "source": [
    "#### Shapiro-Wilk Test for Normality:𝑊=0.917,𝑝=0.128\n",
    "W=0.917,p=0.128 (Normality assumption met) Boxplot inspection revealed no significant outliers.\n",
    "One-sample t-test results:\n",
    "𝑡(23) = − 1.289, 𝑝 = 0.110\n",
    "t(23)=−1.289,p=0.110\n",
    "Conclusion: There is no significant difference between the sample mean (𝑀=4.29 M=4.29) and the population mean (5), 𝑝 > 0.05 p>0.05.\n"
   ]
  },
  {
   "cell_type": "code",
   "execution_count": 8,
   "metadata": {
    "scrolled": true
   },
   "outputs": [
    {
     "data": {
      "image/png": "[encoded data removed]",
      "text/plain": [
       "<Figure size 432x288 with 1 Axes>"
      ]
     },
     "metadata": {
      "needs_background": "light"
     },
     "output_type": "display_data"
    },
    {
     "name": "stdout",
     "output_type": "stream",
     "text": [
      "Shapiro-Wilk test for group without cloak: ShapiroResult(statistic=0.912763774394989, pvalue=0.23144780099391937)\n",
      "Shapiro-Wilk test for group with cloak: ShapiroResult(statistic=0.97261643409729, pvalue=0.9361870884895325)\n",
      "t-statistic: -1.7134593839651469, p-value: 0.10068634487481126\n"
     ]
    }
   ],
   "source": [
    "# Assumption 1: The dependent variable (Mischief) is continuous (numeric)\n",
    "# Assumption 2: The independent variable (Cloak) consists of two independent groups\n",
    "# Assumption 3: Independence of observations (met by study design)\n",
    "# Assumption 4: Check for outliers using a boxplot\n",
    "sns.boxplot(x=\"Cloak\", y=\"Mischief\", data=df)\n",
    "plt.title(\"Mischief Acts by Cloak\")\n",
    "plt.xlabel(\"Cloak\")\n",
    "plt.ylabel(\"Mischief Acts\")\n",
    "plt.show()\n",
    "# Assumption 5: Normality check using Shapiro-Wilk test for each group\n",
    "cloak_0 = df[df[\"Cloak\"] == 0][\"Mischief\"]\n",
    "cloak_1 = df[df[\"Cloak\"] == 1][\"Mischief\"]\n",
    "shapiro_cloak_0 = stats.shapiro(cloak_0)\n",
    "shapiro_cloak_1 = stats.shapiro(cloak_1)\n",
    "print(f\"Shapiro-Wilk test for group without cloak: {shapiro_cloak_0}\")\n",
    "print(f\"Shapiro-Wilk test for group with cloak: {shapiro_cloak_1}\")\n",
    "t_test_result = stats.ttest_ind(cloak_0, cloak_1, equal_var=True)\n",
    "print(f\"t-statistic: {t_test_result.statistic}, p-value: {t_test_result.pvalue}\")\n"
   ]
  },
  {
   "cell_type": "markdown",
   "metadata": {},
   "source": [
    "#### Independent Samples t-Test\n",
    "\n",
    "Results:\n",
    "Shapiro-Wilk Test for Normality:\n",
    "Without Cloak: 𝑊=0.913,𝑝= 0.231\n",
    "W=0.913,p=0.231 (Normality assumption met)\n",
    "With Cloak: 𝑊=0.973,𝑝 = 0.936\n",
    "W=0.973,p=0.936 (Normality assumption met)\n",
    "Boxplot inspection revealed no significant outliers.Independent samples t-test results:𝑡(22)=−1.713,𝑝=0.101\n",
    "t(22)=−1.713,p=0.101\n",
    "Conclusion: There is no statistically significant difference in the number of mischievous acts between the two groups (\n",
    "𝑀 without cloak = 4.25 Mwithout cloak=4.25, 𝑀with cloak=5.00M with cloak=5.00), 𝑝 > 0.05 p>0.05."
   ]
  },
  {
   "cell_type": "code",
   "execution_count": 10,
   "metadata": {},
   "outputs": [
    {
     "name": "stdout",
     "output_type": "stream",
     "text": [
      "Shapiro-Wilk test for differences: ShapiroResult(statistic=0.6404851675033569, pvalue=0.00016867862723302096)\n",
      "t-statistic: -8.573214099741122, p-value: 1.2681848720135205e-05\n"
     ]
    }
   ],
   "source": [
    "# Paired Samples t-Test Example (hypothetical before/after intervention)\n",
    "before = [3, 4, 5, 6, 3, 7, 5, 6, 4, 5]\n",
    "after = [4, 5, 6, 8, 4, 9, 6, 8, 5, 7]\n",
    "diff = [a - b for a, b in zip(after, before)]\n",
    "shapiro_diff = stats.shapiro(diff)\n",
    "print(f\"Shapiro-Wilk test for differences: {shapiro_diff}\")\n",
    "# Perform paired samples t-test\n",
    "paired_t_test_result = stats.ttest_rel(before, after)\n",
    "print(f\"t-statistic: {paired_t_test_result.statistic}, p-value: {paired_t_test_result.pvalue}\")\n"
   ]
  },
  {
   "cell_type": "markdown",
   "metadata": {},
   "source": [
    "#### Summary\n",
    "The analyses revealed that:\n",
    "\n",
    "The sample mean of mischievous acts is not significantly different from the population mean of 5.\n",
    "There is no significant difference in mischievous acts between participants with and without an invisibility cloak."
   ]
  },
  {
   "cell_type": "code",
   "execution_count": null,
   "metadata": {},
   "outputs": [],
   "source": []
  }
 ],
 "metadata": {
  "kernelspec": {
   "display_name": "Python 3",
   "language": "python",
   "name": "python3"
  },
  "language_info": {
   "codemirror_mode": {
    "name": "ipython",
    "version": 3
   },
   "file_extension": ".py",
   "mimetype": "text/x-python",
   "name": "python",
   "nbconvert_exporter": "python",
   "pygments_lexer": "ipython3",
   "version": "3.8.3"
  }
 },
 "nbformat": 4,
 "nbformat_minor": 4
}
