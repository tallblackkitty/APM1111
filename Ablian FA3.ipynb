{
 "cells": [
  {
   "cell_type": "code",
   "execution_count": 1,
   "metadata": {},
   "outputs": [
    {
     "name": "stdout",
     "output_type": "stream",
     "text": [
      "                             Score\n",
      "0                   Valid   60.000\n",
      "1                    Mode   28.000\n",
      "2                  Median   57.000\n",
      "3                    Mean   59.167\n",
      "4           Std Deviation   22.211\n",
      "5                Variance  493.328\n",
      "6                Skewness    0.163\n",
      "7   Std Error of Skewness    0.309\n",
      "8                Kurtosis   -1.241\n",
      "9   Std Error of Kurtosis    0.608\n",
      "10                Minimum   25.000\n",
      "11                Maximum   99.000\n",
      "12   Q1 (25th percentile)   37.750\n",
      "13   Q3 (75th percentile)   76.000\n",
      "14   D9 (90th percentile)   89.200\n",
      "15  P95 (95th percentile)   94.100\n"
     ]
    }
   ],
   "source": [
    "import numpy as np\n",
    "import pandas as pd\n",
    "from scipy import stats\n",
    "\n",
    "data = [88, 45, 53, 86, 33, 86, 85, 30, 89, 53, 41, 96, 56, 38, 62,\n",
    "        71, 51, 86, 68, 29, 28, 47, 33, 37, 25, 36, 33, 94, 73, 46,\n",
    "        42, 34, 79, 72, 88, 99, 82, 62, 57, 42, 28, 55, 67, 62, 60,\n",
    "        96, 61, 57, 75, 93, 34, 75, 53, 32, 28, 73, 51, 69, 91, 35]\n",
    "\n",
    "data = np.array(data)\n",
    "\n",
    "valid_count = len(data)\n",
    "mode = stats.mode(data)[0][0]\n",
    "median = np.median(data)\n",
    "mean = np.mean(data)\n",
    "std_deviation = np.std(data, ddof=1)\n",
    "variance = np.var(data, ddof=1)\n",
    "skewness = stats.skew(data)\n",
    "kurtosis = stats.kurtosis(data)\n",
    "minimum = np.min(data)\n",
    "maximum = np.max(data)\n",
    "\n",
    "n = len(data)\n",
    "std_error_skewness = np.sqrt(6 * n * (n - 1) / ((n - 2) * (n + 1) * (n + 3)))\n",
    "std_error_kurtosis = np.sqrt((24 * n * (n - 1)**2) / (n - 3) / (n - 2) / (n + 3) / (n + 5))\n",
    "\n",
    "Q1 = np.percentile(data, 25)\n",
    "Q2 = median\n",
    "Q3 = np.percentile(data, 75)\n",
    "D9 = np.percentile(data, 90)\n",
    "P95 = np.percentile(data, 95)\n",
    "\n",
    "results = pd.DataFrame({\n",
    "    '': ['Valid', 'Mode', 'Median', 'Mean', 'Std Deviation', \n",
    "                  'Variance', 'Skewness', 'Std Error of Skewness', 'Kurtosis', \n",
    "                  'Std Error of Kurtosis', 'Minimum', 'Maximum', 'Q1 (25th percentile)', \n",
    "                  'Q3 (75th percentile)', 'D9 (90th percentile)', 'P95 (95th percentile)'],\n",
    "    'Score': [round(valid_count, 3), round(mode, 3), round(median, 3), round(mean, 3), round(std_deviation, 3), \n",
    "              round(variance, 3), round(skewness, 3), round(std_error_skewness, 3), round(kurtosis, 3), \n",
    "              round(std_error_kurtosis, 3), round(minimum, 3), round(maximum, 3), round(Q1, 3), round(Q3, 3), \n",
    "              round(D9, 3), round(P95, 3)]\n",
    "})\n",
    "print(results)\n"
   ]
  },
  {
   "cell_type": "code",
   "execution_count": null,
   "metadata": {},
   "outputs": [],
   "source": []
  }
 ],
 "metadata": {
  "kernelspec": {
   "display_name": "Python 3",
   "language": "python",
   "name": "python3"
  },
  "language_info": {
   "codemirror_mode": {
    "name": "ipython",
    "version": 3
   },
   "file_extension": ".py",
   "mimetype": "text/x-python",
   "name": "python",
   "nbconvert_exporter": "python",
   "pygments_lexer": "ipython3",
   "version": "3.8.3"
  }
 },
 "nbformat": 4,
 "nbformat_minor": 4
}
