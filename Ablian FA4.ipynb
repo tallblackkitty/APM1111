{
 "cells": [
  {
   "cell_type": "markdown",
   "metadata": {},
   "source": [
    "### Find the (a) first, (b) second, (c) third, and (d ) fourth moments for each of the sets of data (normal, skewed-right, skewed-left, uniform).\n",
    "\n",
    "### mean/variance/skewness/kurtosis"
   ]
  },
  {
   "cell_type": "code",
   "execution_count": 24,
   "metadata": {},
   "outputs": [
    {
     "name": "stdout",
     "output_type": "stream",
     "text": [
      "The mean of the normal distribution is: 65.44\n",
      "The variance of the normal distribution is: 8.0064\n",
      "The skewness of the normal distribution is: 0.12122796213172009\n",
      "The kurtosis of the normal distribution is: -0.6670361552484629\n",
      "The mean of the skewed right distribution is: 65.08\n",
      "The variance of skewed right distribution is: 8.1536\n",
      "The skewness of skewed right distribution is: -0.28680170502785324\n",
      "The kurtosis of skewed right distribution is: -0.6838017751479302\n",
      "The mean of the skewed left distribution is: 37.72\n",
      "The variance of the skewed left distribution is: 177.8816\n",
      "The skewness of the skewed left distribution is: 1.4643624592178497\n",
      "The kurtosis of the skewed left distribution is: 1.1079860880278813\n",
      "The mean of the uniform distribution is: 47.12\n",
      "The variance of the uniform distribution is: 684.6656000000002\n",
      "The skewness of the uniform distribution is: 0.5236381885766968\n",
      "The kurtosis of the uniform distribution is: -1.1400592716263922\n"
     ]
    }
   ],
   "source": [
    "import numpy as np\n",
    "from scipy.stats import skew \n",
    "from scipy.stats import kurtosis \n",
    "\n",
    "normal = np.array([67, 70, 63, 65, 68, 60, 70, 64, 69, 61, 66, 65, 71, 62, 66, 68, 64, 67, 62, 66, 65, 63, 66, 65, 63])\n",
    "skewed_right = np.array([69, 62, 67, 59, 66, 65, 63, 65, 60, 67, 68, 68, 69, 64, 65, 62, 67, 70, 64, 63, 68, 64, 65, 61, 66])\n",
    "skewed_left = np.array([31, 43, 30, 30, 38, 26, 29, 75, 46, 26, 29, 57, 34, 34, 36, 40, 28, 26, 66, 63, 30, 33, 24, 35, 34])\n",
    "uniform = np.array([40, 24, 29, 27, 35, 35, 33, 38, 41, 85, 29, 40, 76, 93, 10, 58, 85, 25, 83, 82, 92, 58, 10, 22, 28])\n",
    "\n",
    "print(f\"The mean of the normal distribution is: {np.mean(normal)}\")\n",
    "print(f\"The variance of the normal distribution is: {np.var(normal)}\")\n",
    "print(f\"The skewness of the normal distribution is: {(skew(normal,axis=0, bias=True))}\")\n",
    "print(f\"The kurtosis of the normal distribution is: {(kurtosis(normal, axis=0, bias=True))}\")\n",
    "\n",
    "print(f\"The mean of the skewed right distribution is: {np.mean(skewed_right)}\")\n",
    "print(f\"The variance of skewed right distribution is: {np.var(skewed_right)}\")\n",
    "print(f\"The skewness of skewed right distribution is: {(skew(skewed_right,axis=0, bias=True))}\")\n",
    "print(f\"The kurtosis of skewed right distribution is: {(kurtosis(skewed_right, axis=0, bias=True))}\")\n",
    "\n",
    "print(f\"The mean of the skewed left distribution is: {np.mean(skewed_left)}\")\n",
    "print(f\"The variance of the skewed left distribution is: {np.var(skewed_left)}\")\n",
    "print(f\"The skewness of the skewed left distribution is: {(skew(skewed_left,axis=0, bias=True))}\")\n",
    "print(f\"The kurtosis of the skewed left distribution is: {(kurtosis(skewed_left, axis=0, bias=True))}\")\n",
    "\n",
    "print(f\"The mean of the uniform distribution is: {np.mean(uniform)}\")\n",
    "print(f\"The variance of the uniform distribution is: {np.var(uniform)}\")\n",
    "print(f\"The skewness of the uniform distribution is: {(skew(uniform,axis=0, bias=True))}\")\n",
    "print(f\"The kurtosis of the uniform distribution is: {(kurtosis(uniform, axis=0, bias=True))}\")"
   ]
  },
  {
   "cell_type": "markdown",
   "metadata": {},
   "source": [
    "### Find the (a) first, (b) second, (c) third, and (d ) fourth moments about the mean for each of the sets of data (normal, skewed-right, skewed-left, uniform)."
   ]
  },
  {
   "cell_type": "code",
   "execution_count": 38,
   "metadata": {},
   "outputs": [
    {
     "name": "stdout",
     "output_type": "stream",
     "text": [
      "The mean of the means is: 53.839999999999996\n",
      "The variance of the means is: 141.4776\n",
      "The skewness of the means is: -0.22453502402402814\n",
      "The kurtosis of the means is: -1.705640084264266\n"
     ]
    }
   ],
   "source": [
    "import numpy as np\n",
    "from scipy.stats import skew \n",
    "from scipy.stats import kurtosis \n",
    "\n",
    "normal = np.array([67, 70, 63, 65, 68, 60, 70, 64, 69, 61, 66, 65, 71, 62, 66, 68, 64, 67, 62, 66, 65, 63, 66, 65, 63])\n",
    "skewed_right = np.array([69, 62, 67, 59, 66, 65, 63, 65, 60, 67, 68, 68, 69, 64, 65, 62, 67, 70, 64, 63, 68, 64, 65, 61, 66])\n",
    "skewed_left = np.array([31, 43, 30, 30, 38, 26, 29, 75, 46, 26, 29, 57, 34, 34, 36, 40, 28, 26, 66, 63, 30, 33, 24, 35, 34])\n",
    "uniform = np.array([40, 24, 29, 27, 35, 35, 33, 38, 41, 85, 29, 40, 76, 93, 10, 58, 85, 25, 83, 82, 92, 58, 10, 22, 28])\n",
    "\n",
    "mean1 = np.mean(normal)\n",
    "mean2 = np.mean(skewed_right)\n",
    "mean3 = np.mean(skewed_left)\n",
    "mean4 = np.mean(uniform)\n",
    "\n",
    "means = np.array([mean1,mean2,mean3,mean4])\n",
    "\n",
    "print(f\"The mean of the means is: {np.mean(means)}\")\n",
    "print(f\"The variance of the means is: {np.var(means)}\")\n",
    "print(f\"The skewness of the means is: {(skew(means,axis=0, bias=True))}\")\n",
    "print(f\"The kurtosis of the means is: {(kurtosis(means, axis=0, bias=True))}\")\n"
   ]
  },
  {
   "cell_type": "markdown",
   "metadata": {},
   "source": [
    "#### Find the (a) first, (b) second, (c) third, and (d ) fourth moments about the number 75 for the set of female height measurements."
   ]
  },
  {
   "cell_type": "code",
   "execution_count": 50,
   "metadata": {},
   "outputs": [
    {
     "name": "stdout",
     "output_type": "stream",
     "text": [
      "The mean is: -9.454545454545455\n",
      "The variance is: 8.793388429752065\n",
      "The skewness is: 0.038119518145611896\n",
      "The kurtosis is: -0.8361322714681436\n"
     ]
    }
   ],
   "source": [
    "import numpy as np\n",
    "fh = np.array([67, 70, 63, 65, 68, 60, 70, 64, 69, 61, 66, 65, 71, 62, 66, 68, 64, 67, 62, 66, 65, 63])\n",
    "fh1 = fh - 75\n",
    "print(f\"The mean is: {np.mean(fh1)}\")\n",
    "print(f\"The variance is: {np.var(fh1)}\")\n",
    "print(f\"The skewness is: {(skew(fh1,axis=0, bias=True))}\")\n",
    "print(f\"The kurtosis is: {(kurtosis(fh1, axis=0, bias=True))}\")\n",
    "\n"
   ]
  },
  {
   "cell_type": "markdown",
   "metadata": {},
   "source": [
    "### Using the results of items 2 and 3 for the set of female height measurements, verify the relations between the first, second, and third moments\n",
    "\n",
    "\n",
    "###### The mean on the value 75 is -9.454545454545455, meaning that the average height is shorter than 75 and because the variance's value is high, it means that there is diversity on the heights listed while the skewness is close to zero, meaning the data around the mean is symmetrical. The two means (2a) & (3a) are very far from each other, as well as their variance. Only their skewness and kurtosis are close to each other, hovering over zero.\n"
   ]
  },
  {
   "cell_type": "code",
   "execution_count": null,
   "metadata": {},
   "outputs": [],
   "source": [
    "\n"
   ]
  },
  {
   "cell_type": "code",
   "execution_count": null,
   "metadata": {},
   "outputs": [],
   "source": []
  }
 ],
 "metadata": {
  "kernelspec": {
   "display_name": "Python 3",
   "language": "python",
   "name": "python3"
  },
  "language_info": {
   "codemirror_mode": {
    "name": "ipython",
    "version": 3
   },
   "file_extension": ".py",
   "mimetype": "text/x-python",
   "name": "python",
   "nbconvert_exporter": "python",
   "pygments_lexer": "ipython3",
   "version": "3.8.3"
  }
 },
 "nbformat": 4,
 "nbformat_minor": 4
}
