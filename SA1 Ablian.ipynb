{
 "cells": [
  {
   "cell_type": "markdown",
   "metadata": {},
   "source": [
    "1. (10 points). Formulate and present the rationale for a hypothesis test that the researcher could use to compare the mean time spent on cell phones by male and female college students per week.\n",
    "2. (30 points). Analyze the data to provide the hypothesis testing conclusion. What is the p-value for your test? What is your recommendation for the researcher?\n",
    "3. (10 points). Provide descriptive statistical summaries of the data for each gender category.\n",
    "4. (10 points). What is the 95% confidence interval for the population mean of each gender category, and what is the 95%  confidence interval for the difference between the means of the two populations?\n",
    "5. (20 points). Do you see a need for larger sample sizes and more testing with the time spent on cell phones? Discuss.\n",
    "6. (20 points). Make a report including the testing of the assumptions for two independent samples t-test."
   ]
  },
  {
   "cell_type": "code",
   "execution_count": 22,
   "metadata": {},
   "outputs": [
    {
     "data": {
      "text/html": [
       "<div>\n",
       "<style scoped>\n",
       "    .dataframe tbody tr th:only-of-type {\n",
       "        vertical-align: middle;\n",
       "    }\n",
       "\n",
       "    .dataframe tbody tr th {\n",
       "        vertical-align: top;\n",
       "    }\n",
       "\n",
       "    .dataframe thead th {\n",
       "        text-align: right;\n",
       "    }\n",
       "</style>\n",
       "<table border=\"1\" class=\"dataframe\">\n",
       "  <thead>\n",
       "    <tr style=\"text-align: right;\">\n",
       "      <th></th>\n",
       "      <th>Males</th>\n",
       "      <th>Females</th>\n",
       "    </tr>\n",
       "  </thead>\n",
       "  <tbody>\n",
       "    <tr>\n",
       "      <th>0</th>\n",
       "      <td>12</td>\n",
       "      <td>9</td>\n",
       "    </tr>\n",
       "    <tr>\n",
       "      <th>1</th>\n",
       "      <td>4</td>\n",
       "      <td>7</td>\n",
       "    </tr>\n",
       "    <tr>\n",
       "      <th>2</th>\n",
       "      <td>11</td>\n",
       "      <td>10</td>\n",
       "    </tr>\n",
       "    <tr>\n",
       "      <th>3</th>\n",
       "      <td>13</td>\n",
       "      <td>9</td>\n",
       "    </tr>\n",
       "    <tr>\n",
       "      <th>4</th>\n",
       "      <td>11</td>\n",
       "      <td>7</td>\n",
       "    </tr>\n",
       "    <tr>\n",
       "      <th>5</th>\n",
       "      <td>11</td>\n",
       "      <td>10</td>\n",
       "    </tr>\n",
       "    <tr>\n",
       "      <th>6</th>\n",
       "      <td>7</td>\n",
       "      <td>7</td>\n",
       "    </tr>\n",
       "    <tr>\n",
       "      <th>7</th>\n",
       "      <td>9</td>\n",
       "      <td>10</td>\n",
       "    </tr>\n",
       "    <tr>\n",
       "      <th>8</th>\n",
       "      <td>10</td>\n",
       "      <td>7</td>\n",
       "    </tr>\n",
       "    <tr>\n",
       "      <th>9</th>\n",
       "      <td>7</td>\n",
       "      <td>9</td>\n",
       "    </tr>\n",
       "    <tr>\n",
       "      <th>10</th>\n",
       "      <td>9</td>\n",
       "      <td>8</td>\n",
       "    </tr>\n",
       "    <tr>\n",
       "      <th>11</th>\n",
       "      <td>10</td>\n",
       "      <td>9</td>\n",
       "    </tr>\n",
       "    <tr>\n",
       "      <th>12</th>\n",
       "      <td>7</td>\n",
       "      <td>12</td>\n",
       "    </tr>\n",
       "    <tr>\n",
       "      <th>13</th>\n",
       "      <td>12</td>\n",
       "      <td>14</td>\n",
       "    </tr>\n",
       "    <tr>\n",
       "      <th>14</th>\n",
       "      <td>6</td>\n",
       "      <td>12</td>\n",
       "    </tr>\n",
       "    <tr>\n",
       "      <th>15</th>\n",
       "      <td>9</td>\n",
       "      <td>8</td>\n",
       "    </tr>\n",
       "    <tr>\n",
       "      <th>16</th>\n",
       "      <td>15</td>\n",
       "      <td>12</td>\n",
       "    </tr>\n",
       "    <tr>\n",
       "      <th>17</th>\n",
       "      <td>11</td>\n",
       "      <td>12</td>\n",
       "    </tr>\n",
       "    <tr>\n",
       "      <th>18</th>\n",
       "      <td>10</td>\n",
       "      <td>10</td>\n",
       "    </tr>\n",
       "    <tr>\n",
       "      <th>19</th>\n",
       "      <td>8</td>\n",
       "      <td>9</td>\n",
       "    </tr>\n",
       "    <tr>\n",
       "      <th>20</th>\n",
       "      <td>11</td>\n",
       "      <td>10</td>\n",
       "    </tr>\n",
       "    <tr>\n",
       "      <th>21</th>\n",
       "      <td>7</td>\n",
       "      <td>11</td>\n",
       "    </tr>\n",
       "    <tr>\n",
       "      <th>22</th>\n",
       "      <td>10</td>\n",
       "      <td>7</td>\n",
       "    </tr>\n",
       "    <tr>\n",
       "      <th>23</th>\n",
       "      <td>10</td>\n",
       "      <td>9</td>\n",
       "    </tr>\n",
       "    <tr>\n",
       "      <th>24</th>\n",
       "      <td>9</td>\n",
       "      <td>11</td>\n",
       "    </tr>\n",
       "    <tr>\n",
       "      <th>25</th>\n",
       "      <td>7</td>\n",
       "      <td>9</td>\n",
       "    </tr>\n",
       "    <tr>\n",
       "      <th>26</th>\n",
       "      <td>9</td>\n",
       "      <td>11</td>\n",
       "    </tr>\n",
       "    <tr>\n",
       "      <th>27</th>\n",
       "      <td>12</td>\n",
       "      <td>8</td>\n",
       "    </tr>\n",
       "    <tr>\n",
       "      <th>28</th>\n",
       "      <td>8</td>\n",
       "      <td>13</td>\n",
       "    </tr>\n",
       "    <tr>\n",
       "      <th>29</th>\n",
       "      <td>13</td>\n",
       "      <td>10</td>\n",
       "    </tr>\n",
       "    <tr>\n",
       "      <th>30</th>\n",
       "      <td>10</td>\n",
       "      <td>9</td>\n",
       "    </tr>\n",
       "    <tr>\n",
       "      <th>31</th>\n",
       "      <td>9</td>\n",
       "      <td>11</td>\n",
       "    </tr>\n",
       "    <tr>\n",
       "      <th>32</th>\n",
       "      <td>10</td>\n",
       "      <td>9</td>\n",
       "    </tr>\n",
       "    <tr>\n",
       "      <th>33</th>\n",
       "      <td>8</td>\n",
       "      <td>8</td>\n",
       "    </tr>\n",
       "    <tr>\n",
       "      <th>34</th>\n",
       "      <td>11</td>\n",
       "      <td>9</td>\n",
       "    </tr>\n",
       "    <tr>\n",
       "      <th>35</th>\n",
       "      <td>10</td>\n",
       "      <td>12</td>\n",
       "    </tr>\n",
       "    <tr>\n",
       "      <th>36</th>\n",
       "      <td>9</td>\n",
       "      <td>9</td>\n",
       "    </tr>\n",
       "    <tr>\n",
       "      <th>37</th>\n",
       "      <td>12</td>\n",
       "      <td>12</td>\n",
       "    </tr>\n",
       "    <tr>\n",
       "      <th>38</th>\n",
       "      <td>13</td>\n",
       "      <td>11</td>\n",
       "    </tr>\n",
       "    <tr>\n",
       "      <th>39</th>\n",
       "      <td>9</td>\n",
       "      <td>11</td>\n",
       "    </tr>\n",
       "  </tbody>\n",
       "</table>\n",
       "</div>"
      ],
      "text/plain": [
       "    Males  Females\n",
       "0      12        9\n",
       "1       4        7\n",
       "2      11       10\n",
       "3      13        9\n",
       "4      11        7\n",
       "5      11       10\n",
       "6       7        7\n",
       "7       9       10\n",
       "8      10        7\n",
       "9       7        9\n",
       "10      9        8\n",
       "11     10        9\n",
       "12      7       12\n",
       "13     12       14\n",
       "14      6       12\n",
       "15      9        8\n",
       "16     15       12\n",
       "17     11       12\n",
       "18     10       10\n",
       "19      8        9\n",
       "20     11       10\n",
       "21      7       11\n",
       "22     10        7\n",
       "23     10        9\n",
       "24      9       11\n",
       "25      7        9\n",
       "26      9       11\n",
       "27     12        8\n",
       "28      8       13\n",
       "29     13       10\n",
       "30     10        9\n",
       "31      9       11\n",
       "32     10        9\n",
       "33      8        8\n",
       "34     11        9\n",
       "35     10       12\n",
       "36      9        9\n",
       "37     12       12\n",
       "38     13       11\n",
       "39      9       11"
      ]
     },
     "execution_count": 22,
     "metadata": {},
     "output_type": "execute_result"
    }
   ],
   "source": [
    "import pandas as pd\n",
    "from scipy import stats\n",
    "pd.options.display.float_format = '{:.4f}'.format\n",
    "import numpy as np\n",
    "import matplotlib.pyplot as plt\n",
    "import matplotlib.pyplot as plt\n",
    "#Hours spent talking on cellphone for males and females at Midwestern University\n",
    "data = {\n",
    "    'Males': [12, 4, 11, 13, 11, 11, 7, 9, 10, 7, 9, 10, 7, 12, 6, 9, 15, 11, 10, 8, 11, 7, 10, 10, 9, 7, 9, 12, 8, 13, 10, 9, 10, 8, 11, 10, 9, 12, 13, 9],\n",
    "    'Females': [9, 7, 10, 9, 7, 10, 7, 10, 7, 9, 8, 9, 12, 14, 12, 8, 12, 12, 10, 9, 10, 11, 7, 9, 11, 9, 11, 8, 13, 10, 9, 11, 9, 8, 9, 12, 9, 12, 11, 11]\n",
    "}\n",
    "\n",
    "df = pd.DataFrame(data)\n",
    "df\n"
   ]
  },
  {
   "cell_type": "markdown",
   "metadata": {},
   "source": [
    "#### 1.Formulate and present the rationale for a hypothesis test that the researcher could use to compare the mean time spent on cell phones by male and female college students per week.\n",
    "\n",
    "#### Hypotheses:\n",
    "\n",
    "Null hypothesis (H0) = The time spent talking on cellphones by males and females are the same ---> U1=U2\n",
    "\n",
    "\n",
    "Alternative hypothesis (H1) = The time spent talking on cellphones by males and females are different ---> U1 ≠ U2\n",
    "\n",
    "#### Assumptions:\n",
    "\n",
    "\n",
    "The two samples data groups are independent.\n",
    "\n",
    "\n",
    "The data elements in respective groups follow any normal distribution.\n",
    "\n",
    "\n",
    "The given two samples have similar variances.\n",
    "\n",
    "\n",
    "#### Test:\n",
    "Two sample t-test to compare the means of the two independent samples. The population variance is unknown but assumed equal and this test will assess if there is a significant difference between the two means.\n",
    "\n",
    "#### Final Result:\n",
    "If the p value is less than or equal to 0.05, we will reject H0, because it means that there is a significant difference in the two groups or else, reject H1 because it would mean that there is not enough evidence to conclude a difference between the two groups.\n",
    "\n",
    "\n"
   ]
  },
  {
   "cell_type": "markdown",
   "metadata": {},
   "source": [
    "#### 2. Analyze the data to provide the hypothesis testing conclusion. What is the p-value for your test? What is your recommendation for the researcher?\n"
   ]
  },
  {
   "cell_type": "code",
   "execution_count": 11,
   "metadata": {},
   "outputs": [
    {
     "data": {
      "text/plain": [
       "(-0.11163357309213415, 0.9114007246789633)"
      ]
     },
     "execution_count": 11,
     "metadata": {},
     "output_type": "execute_result"
    }
   ],
   "source": [
    "males = df['Males']\n",
    "females = df['Females']\n",
    "\n",
    "t_stat, p_value = stats.ttest_ind(males, females, equal_var=True)\n",
    "\n",
    "t_stat, p_value\n",
    "\n",
    "#The p-value is 0.91, significantly greater than the standard significance level 0.05, so we reject H0. \n",
    "#The results indicate no statistically significant difference between the two sample groups."
   ]
  },
  {
   "cell_type": "markdown",
   "metadata": {},
   "source": [
    "#### 3. Provide descriptive statistical summaries of the data for each gender category."
   ]
  },
  {
   "cell_type": "code",
   "execution_count": 12,
   "metadata": {},
   "outputs": [
    {
     "data": {
      "text/plain": [
       "(count    40.000000\n",
       " mean      9.725000\n",
       " std       2.195421\n",
       " min       4.000000\n",
       " 25%       8.750000\n",
       " 50%      10.000000\n",
       " 75%      11.000000\n",
       " max      15.000000\n",
       " Name: Males, dtype: float64,\n",
       " count    40.000000\n",
       " mean      9.775000\n",
       " std       1.790108\n",
       " min       7.000000\n",
       " 25%       9.000000\n",
       " 50%       9.500000\n",
       " 75%      11.000000\n",
       " max      14.000000\n",
       " Name: Females, dtype: float64)"
      ]
     },
     "execution_count": 12,
     "metadata": {},
     "output_type": "execute_result"
    }
   ],
   "source": [
    "male_stats = males.describe()\n",
    "female_stats = females.describe()\n",
    "\n",
    "male_stats, female_stats\n"
   ]
  },
  {
   "cell_type": "markdown",
   "metadata": {},
   "source": [
    "#### 4. What is the 95% confidence interval for the population mean of each gender category, and what is the 95%  confidence interval for the difference between the means of the two populations?"
   ]
  },
  {
   "cell_type": "code",
   "execution_count": 15,
   "metadata": {},
   "outputs": [
    {
     "name": "stdout",
     "output_type": "stream",
     "text": [
      "95% CI for Males: (9.02287041856953, 10.427129581430469)\n",
      "95% CI for Females: (9.2024956423922, 10.3475043576078)\n",
      "95% CI for the difference between means: (-0.9416883216270353, 0.8416883216270339)\n"
     ]
    }
   ],
   "source": [
    "male_mean = males.mean()\n",
    "female_mean = females.mean()\n",
    "\n",
    "male_ci = stats.t.interval(0.95, len(males) - 1, loc=male_mean, scale=stats.sem(males))\n",
    "female_ci = stats.t.interval(0.95, len(females) - 1, loc=female_mean, scale=stats.sem(females))\n",
    "\n",
    "mean_diff = male_mean - female_mean\n",
    "pooled_std = np.sqrt(((len(males) - 1) * males.var() + (len(females) - 1) * females.var()) / (len(males) + len(females) - 2))\n",
    "margin_error = stats.t.ppf(0.975, len(males) + len(females) - 2) * pooled_std * np.sqrt((1 / len(males)) + (1 / len(females)))\n",
    "ci_diff = (mean_diff - margin_error, mean_diff + margin_error)\n",
    "\n",
    "print(\"95% CI for Males:\", male_ci)\n",
    "print(\"95% CI for Females:\", female_ci)\n",
    "print(\"95% CI for the difference between means:\", ci_diff)"
   ]
  },
  {
   "cell_type": "markdown",
   "metadata": {},
   "source": [
    "#### 5. Do you see a need for larger sample sizes and more testing with the time spent on cell phones? Discuss.\n",
    "\n",
    "\n",
    "Yes. A bigger sample size will lead to getting better descriptive statistics like the mean and percentiles because as there are more data to analyze, the closer and closer the computed value will be to its true value, just like the limit of a number in calculus. There is also the decrease in margin of error that leads to a more precise confidence interval. If we are looking for small differences to draw conclusions from the time spent of the males and females, a bigger sample size will help us like the current p value of 0.911. There could be small differences that can potentially be seen if the sample size was bigger. Overall, it would greatly benefit the precision of the tests and computations done. There could even be a possibility of the results from the 20 values per group having a big difference to 100 values per group."
   ]
  },
  {
   "cell_type": "markdown",
   "metadata": {},
   "source": [
    "\n"
   ]
  },
  {
   "cell_type": "markdown",
   "metadata": {},
   "source": [
    "#### 6. Make a report including the testing of the assumptions for two independent samples t-test.\n"
   ]
  },
  {
   "cell_type": "markdown",
   "metadata": {},
   "source": [
    "Assumptions:\n",
    "\n",
    "\n",
    "Independence = Since the data was collected separately for males and females, we assume independence of observations.\n",
    "\n",
    "\n",
    "Normality = The p values are greater than 0.05, meaning the data is normally distributed.\n",
    "\n",
    "\n",
    "Equality of variance = The p values again are greater than 0.05, meaning the variances can be considered equal.\n",
    "\n",
    "\n",
    "Two independent samples t-test:\n",
    "\n",
    "t-statistic = -0.112, p-value = 0.911"
   ]
  },
  {
   "cell_type": "code",
   "execution_count": 25,
   "metadata": {},
   "outputs": [
    {
     "data": {
      "image/png": "[encoded data removed]",
      "text/plain": [
       "<Figure size 432x288 with 1 Axes>"
      ]
     },
     "metadata": {
      "needs_background": "light"
     },
     "output_type": "display_data"
    },
    {
     "data": {
      "image/png": "[encoded data removed]",
      "text/plain": [
       "<Figure size 432x288 with 1 Axes>"
      ]
     },
     "metadata": {
      "needs_background": "light"
     },
     "output_type": "display_data"
    },
    {
     "data": {
      "image/png": "[encoded data removed]",
      "text/plain": [
       "<Figure size 432x288 with 1 Axes>"
      ]
     },
     "metadata": {
      "needs_background": "light"
     },
     "output_type": "display_data"
    },
    {
     "name": "stdout",
     "output_type": "stream",
     "text": [
      "Shapiro-Wilk Test for Males: Statistic = 0.977, p-value = 0.590\n",
      "Shapiro-Wilk Test for Females: Statistic = 0.948, p-value = 0.064\n"
     ]
    }
   ],
   "source": [
    "plt.hist(males, bins=10, alpha=0.5, label='Males', color='blue', density=True)\n",
    "plt.hist(females, bins=10, alpha=0.5, label='Females', color='red', density=True)\n",
    "plt.legend(loc='upper right')\n",
    "plt.title(\"Distribution of Hours Spent on Phone\")\n",
    "plt.xlabel('Hours')\n",
    "plt.ylabel('Density')\n",
    "plt.show()\n",
    "\n",
    "stats.probplot(males, dist=\"norm\", plot=plt)\n",
    "plt.title('Q-Q Plot for Males')\n",
    "plt.show()\n",
    "\n",
    "stats.probplot(females, dist=\"norm\", plot=plt)\n",
    "plt.title('Q-Q Plot for Females')\n",
    "plt.show()\n",
    "\n",
    "shapiro_males = stats.shapiro(males)\n",
    "shapiro_females = stats.shapiro(females)\n",
    "print(f'Shapiro-Wilk Test for Males: Statistic = {shapiro_males.statistic:.3f}, p-value = {shapiro_males.pvalue:.3f}')\n",
    "print(f'Shapiro-Wilk Test for Females: Statistic = {shapiro_females.statistic:.3f}, p-value = {shapiro_females.pvalue:.3f}')\n"
   ]
  },
  {
   "cell_type": "code",
   "execution_count": 27,
   "metadata": {},
   "outputs": [
    {
     "name": "stdout",
     "output_type": "stream",
     "text": [
      "Levene’s Test for Equality of Variances: Stat = 0.521, p-value = 0.473\n"
     ]
    }
   ],
   "source": [
    "levene_stat, levene_p_value = stats.levene(males, females)\n",
    "print(f'Levene’s Test for Equality of Variances: Stat = {levene_stat:.3f}, p-value = {levene_p_value:.3f}')\n"
   ]
  },
  {
   "cell_type": "code",
   "execution_count": 28,
   "metadata": {},
   "outputs": [
    {
     "name": "stdout",
     "output_type": "stream",
     "text": [
      "Two-Sample t-Test: t-statistic = -0.112, p-value = 0.911\n"
     ]
    }
   ],
   "source": [
    "t_stat, p_value = stats.ttest_ind(males, females, equal_var=(levene_p_value > 0.05))\n",
    "print(f'Two-Sample t-Test: t-statistic = {t_stat:.3f}, p-value = {p_value:.3f}')\n"
   ]
  },
  {
   "cell_type": "code",
   "execution_count": null,
   "metadata": {},
   "outputs": [],
   "source": []
  }
 ],
 "metadata": {
  "kernelspec": {
   "display_name": "Python 3",
   "language": "python",
   "name": "python3"
  },
  "language_info": {
   "codemirror_mode": {
    "name": "ipython",
    "version": 3
   },
   "file_extension": ".py",
   "mimetype": "text/x-python",
   "name": "python",
   "nbconvert_exporter": "python",
   "pygments_lexer": "ipython3",
   "version": "3.8.3"
  }
 },
 "nbformat": 4,
 "nbformat_minor": 4
}
