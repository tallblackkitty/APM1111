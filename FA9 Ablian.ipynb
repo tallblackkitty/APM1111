{
 "cells": [
  {
   "cell_type": "code",
   "execution_count": 16,
   "metadata": {},
   "outputs": [
    {
     "name": "stdout",
     "output_type": "stream",
     "text": [
      "                                   sum_sq    df           F        PR(>F)\n",
      "C(gender)                        1.998919   1.0    0.225022  6.373911e-01\n",
      "C(education_level)            5655.438003   2.0  318.320891  1.989153e-28\n",
      "C(gender):C(education_level)    75.092685   2.0    4.226652  2.038191e-02\n",
      "Residual                       426.395238  48.0         NaN           NaN\n",
      "Shapiro-Wilk Test for Normality: W=0.963517963886261, p=0.09908279031515121\n",
      "Levene's Test for Homogeneity of Variances: W=0.17113485814273213, p=0.8431898346629887\n"
     ]
    },
    {
     "data": {
      "image/png": "[encoded data removed]",
      "text/plain": [
       "<Figure size 432x288 with 1 Axes>"
      ]
     },
     "metadata": {
      "needs_background": "light"
     },
     "output_type": "display_data"
    }
   ],
   "source": [
    "import pandas as pd\n",
    "import numpy as np\n",
    "from statsmodels.formula.api import ols\n",
    "from statsmodels.stats.anova import anova_lm\n",
    "import seaborn as sns\n",
    "import matplotlib.pyplot as plt\n",
    "from scipy.stats import shapiro, levene\n",
    "\n",
    "#Null hypothesis: There is no significant interaction effect on political interest between gender and education level.\n",
    "#Independence: Each observation must be independent.\n",
    "#Normality: The residuals within each group must be normally distributed.\n",
    "#Homogeneity of Variances: Variances within groups must be approximately equal.\n",
    "\n",
    "data = {\n",
    "    \"gender\": [1, 1, 1, 1, 1, 1, 1, 1, 1, 1, 1, 1, 1, 1, 1, 1, 1, 1,1, 1, 1, 1, 1, 1, 1, 1, 1, 2, 2, 2, 2, 2, 2, 2, 2, 2, 2, 2, 2, 2, 2, 2, 2, 2, 2, 2, 2, 2, 2, 2, 2, 2, 2, 2],\n",
    "    \"education_level\": [1, 1, 1, 1, 1, 1, 1, 1, 1, 2, 2, 2, 2, 2, 2, 2, 2, 2, 3, 3, 3, 3, 3, 3, 3, 3, 3, 1, 1, 1, 1, 1, 1, 1, 1, 1, 1, 2, 2, 2, 2, 2, 2, 2, 2, 2, 2, 3, 3, 3, 3, 3, 3, 3],\n",
    "    \"political_interest\": [38, 39, 35, 38, 41, 40, 36, 37, 33, 41.5, 41.5, 44.5, 44.5, 44, 46.5, 42, 43.5, 38.5, 63, 64, 61, 64, 69, 69, 66, 62, 63, 40, 41, 36, 39, 44, 44, 42, 38, 38, 34, 45, 46, 41, 44, 49, 49, 47, 43, 43, 39, 57, 58, 63, 66, 65, 61, 59]\n",
    "}\n",
    "df['gender'] = df['gender'].astype('category')\n",
    "df['education_level'] = df['education_level'].astype('category')\n",
    "\n",
    "model = ols('political_interest ~ C(gender) + C(education_level) + C(gender):C(education_level)', data=df).fit()\n",
    "anova_results = anova_lm(model, typ=2)\n",
    "\n",
    "print(anova_results)\n",
    "\n",
    "# 1. Shapiro-Wilk Test for Normality of Residuals\n",
    "shapiro_test = shapiro(model.resid)\n",
    "print(f\"Shapiro-Wilk Test for Normality: W={shapiro_test.statistic}, p={shapiro_test.pvalue}\")\n",
    "\n",
    "# 2. Levene's Test for Homogeneity of Variances\n",
    "levene_test = levene(\n",
    "    df[df['education_level'] == 1]['political_interest'],\n",
    "    df[df['education_level'] == 2]['political_interest'],\n",
    "    df[df['education_level'] == 3]['political_interest']\n",
    ")\n",
    "print(f\"Levene's Test for Homogeneity of Variances: W={levene_test.statistic}, p={levene_test.pvalue}\")\n",
    "#Plot\n",
    "sns.pointplot(data=df, x=\"education_level\", y=\"political_interest\", hue=\"gender\", dodge=True, markers=[\"o\", \"s\"], capsize=0.1)\n",
    "plt.title(\"Interaction Plot: Gender and Education Level on Political Interest\")\n",
    "plt.ylabel(\"Political Interest\")\n",
    "plt.xlabel(\"Education Level\")\n",
    "plt.show()"
   ]
  },
  {
   "cell_type": "markdown",
   "metadata": {},
   "source": [
    "#### P test values:\n",
    "\n",
    "Gender = 0.6373 (No Significant main effect)\n",
    "\n",
    "Education Level = 1.989 x 10^-28 (Highly significant main effect)\n",
    "\n",
    "G*E = 0.0203 (Significant/This indicates that the effect of education level on political interest depends on gender.)\n",
    "\n",
    "\n",
    "#### Assumptions\n",
    "Shapiro-Wilk Test for Normality: W=0.964, p=0.099: Fail to reject H0, indicating the residuals are normally distributed.\n",
    "\n",
    "\n",
    "Levene's Test for Homogeneity of Variances:W = 0.171, p = 0.843: Fail to reject H0, indicating homogeneity of variances across groups.\n",
    "\n",
    "\n",
    "\n",
    "\n",
    "\n",
    "\n"
   ]
  },
  {
   "cell_type": "code",
   "execution_count": 11,
   "metadata": {},
   "outputs": [
    {
     "name": "stdout",
     "output_type": "stream",
     "text": [
      "                          mean  median    std  count\n",
      "gender education_level                              \n",
      "1      1                37.444    38.0  2.506      9\n",
      "       2                42.944    43.5  2.338      9\n",
      "       3                64.556    64.0  2.877      9\n",
      "2      1                39.600    39.5  3.273     10\n",
      "       2                44.600    44.5  3.273     10\n",
      "       3                61.286    61.0  3.498      7\n"
     ]
    }
   ],
   "source": [
    "descriptive_stats = df.groupby(['gender', 'education_level'])['political_interest'].agg(['mean', 'median', 'std', 'count'])\n",
    "descriptive_stats = descriptive_stats.round(3)\n",
    "print(descriptive_stats)\n"
   ]
  },
  {
   "cell_type": "code",
   "execution_count": null,
   "metadata": {},
   "outputs": [],
   "source": []
  }
 ],
 "metadata": {
  "kernelspec": {
   "display_name": "Python 3",
   "language": "python",
   "name": "python3"
  },
  "language_info": {
   "codemirror_mode": {
    "name": "ipython",
    "version": 3
   },
   "file_extension": ".py",
   "mimetype": "text/x-python",
   "name": "python",
   "nbconvert_exporter": "python",
   "pygments_lexer": "ipython3",
   "version": "3.8.3"
  }
 },
 "nbformat": 4,
 "nbformat_minor": 4
}
